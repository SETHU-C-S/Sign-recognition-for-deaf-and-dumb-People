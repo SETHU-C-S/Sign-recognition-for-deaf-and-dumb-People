{
 "cells": [
  {
   "cell_type": "code",
   "execution_count": 1,
   "id": "276ce2ed",
   "metadata": {},
   "outputs": [
    {
     "ename": "SyntaxError",
     "evalue": "invalid syntax (3147485204.py, line 1)",
     "output_type": "error",
     "traceback": [
      "\u001b[0;36m  File \u001b[0;32m\"/tmp/ipykernel_2711/3147485204.py\"\u001b[0;36m, line \u001b[0;32m1\u001b[0m\n\u001b[0;31m    python detect.py --weights best.pt --img 416 --conf 0.5 --source 0\u001b[0m\n\u001b[0m           ^\u001b[0m\n\u001b[0;31mSyntaxError\u001b[0m\u001b[0;31m:\u001b[0m invalid syntax\n"
     ]
    }
   ],
   "source": [
    "python detect.py --weights best.pt --img 416 --conf 0.5 --source 0"
   ]
  },
  {
   "cell_type": "code",
   "execution_count": 2,
   "id": "3d0eeb96",
   "metadata": {},
   "outputs": [
    {
     "name": "stdout",
     "output_type": "stream",
     "text": [
      "python: can't open file '/home/saravana/Sign-Language-Generation-From-Video-using-YOLOV5/detect.py': [Errno 2] No such file or directory\r\n"
     ]
    }
   ],
   "source": [
    "!python detect.py --weights best.pt --img 416 --conf 0.5 --source 0"
   ]
  },
  {
   "cell_type": "code",
   "execution_count": 3,
   "id": "a3ad0480",
   "metadata": {},
   "outputs": [
    {
     "name": "stdout",
     "output_type": "stream",
     "text": [
      "python: can't open file '/home/saravana/Sign-Language-Generation-From-Video-using-YOLOV5/run.py': [Errno 2] No such file or directory\r\n"
     ]
    }
   ],
   "source": [
    "!python run.py"
   ]
  },
  {
   "cell_type": "code",
   "execution_count": null,
   "id": "07aae7ec",
   "metadata": {},
   "outputs": [],
   "source": []
  }
 ],
 "metadata": {
  "kernelspec": {
   "display_name": "Python 3 (ipykernel)",
   "language": "python",
   "name": "python3"
  },
  "language_info": {
   "codemirror_mode": {
    "name": "ipython",
    "version": 3
   },
   "file_extension": ".py",
   "mimetype": "text/x-python",
   "name": "python",
   "nbconvert_exporter": "python",
   "pygments_lexer": "ipython3",
   "version": "3.9.13"
  }
 },
 "nbformat": 4,
 "nbformat_minor": 5
}
